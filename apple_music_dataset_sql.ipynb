{
 "cells": [
  {
   "cell_type": "code",
   "execution_count": null,
   "id": "d649d4003b1dc466",
   "metadata": {
    "ExecuteTime": {
     "end_time": "2024-03-29T04:02:45.200244Z",
     "start_time": "2024-03-29T04:02:45.183116Z"
    },
    "collapsed": false,
    "jupyter": {
     "outputs_hidden": false
    }
   },
   "outputs": [],
   "source": [
    "import psycopg2\n",
    "import matplotlib.pyplot as plt\n",
    "import pandas as pd"
   ]
  },
  {
   "cell_type": "markdown",
   "id": "ed13c2b8964875c0",
   "metadata": {
    "collapsed": false,
    "jupyter": {
     "outputs_hidden": false
    }
   },
   "source": [
    "### Connect to PostgreSQL"
   ]
  },
  {
   "cell_type": "code",
   "execution_count": null,
   "id": "96bf87c57d454243",
   "metadata": {
    "collapsed": false,
    "jupyter": {
     "outputs_hidden": false
    }
   },
   "outputs": [],
   "source": [
    "conn = psycopg2.connect(\n",
    "    database=\"shefalisharma\",\n",
    "    user=\"postgres\",\n",
    "    password=\"postgres\",\n",
    "    host=\"localhost\",\n",
    "    port=\"5432\"\n",
    ")\n",
    "\n",
    "# Create a cursor object\n",
    "cur = conn.cursor()\n",
    "\n",
    "# Execute SQL query\n",
    "#cur.execute(\"SELECT * FROM apple_music_dataset LIMIT 4\")\n",
    "\n",
    "# Fetch data\n",
    "#data = cur.fetchall()\n",
    "\n",
    "\n"
   ]
  },
  {
   "cell_type": "markdown",
   "id": "777eeb1a8c951a89",
   "metadata": {
    "collapsed": false,
    "jupyter": {
     "outputs_hidden": false
    }
   },
   "source": [
    "#### Execute Q1: Analysing Genre's and their track released over the years"
   ]
  },
  {
   "cell_type": "code",
   "execution_count": null,
   "id": "325aef28e01ae4d",
   "metadata": {
    "collapsed": false,
    "jupyter": {
     "outputs_hidden": false
    }
   },
   "outputs": [],
   "source": [
    "cur = conn.cursor()\n",
    "\n",
    "cur.execute(\"\"\"\n",
    "WITH genre_table AS (\n",
    "    SELECT \"primaryGenreName\", DATE_TRUNC('year', \"releaseDate\")::date AS release_year, COUNT(\"trackId\") AS track_count\n",
    "    FROM apple_music_dataset\n",
    "    GROUP BY \"primaryGenreName\", DATE_TRUNC('year', \"releaseDate\")\n",
    "),\n",
    "years AS (\n",
    "    SELECT GENERATE_SERIES(MIN(\"releaseDate\"), MAX(\"releaseDate\"), '1 year'::interval)::date AS years\n",
    "    FROM apple_music_dataset\n",
    "),\n",
    "all_genres AS (\n",
    "    SELECT DISTINCT \"primaryGenreName\" AS genre FROM apple_music_dataset\n",
    "),\n",
    "cross_join_genre_years AS (\n",
    "    SELECT years.years, all_genres.genre\n",
    "    FROM years, all_genres\n",
    ")\n",
    "SELECT genre, years, COALESCE(genre_table.track_count, 0) AS count, AVG(COALESCE(genre_table.track_count, 0)) OVER(PARTITION BY genre)\n",
    "FROM cross_join_genre_years cjgy\n",
    "LEFT JOIN genre_table ON genre_table.\"primaryGenreName\" = cjgy.genre AND genre_table.release_year = cjgy.years\n",
    "\"\"\")\n",
    "# Get column names from cursor description\n",
    "column_names_1 = [desc[0] for desc in cur.description]\n",
    "\n",
    "# Fetch the data\n",
    "q1_data = cur.fetchall()\n",
    "\n",
    "# Create DataFrame with fetched data and column names\n",
    "q1_data_df = pd.DataFrame(q1_data, columns=column_names_1)\n",
    "cur.close()\n"
   ]
  },
  {
   "cell_type": "code",
   "execution_count": null,
   "id": "3ce177b32a20dbf3",
   "metadata": {
    "collapsed": false,
    "jupyter": {
     "outputs_hidden": false
    }
   },
   "outputs": [],
   "source": [
    "q1_data_df.head(5)\n",
    "# print head when the df is sorted by count in Descending\n",
    "q1_data_df.describe()"
   ]
  },
  {
   "cell_type": "markdown",
   "id": "994240ff6e96ea65",
   "metadata": {
    "collapsed": false,
    "jupyter": {
     "outputs_hidden": false
    }
   },
   "source": [
    "## Close cursor and connection"
   ]
  },
  {
   "cell_type": "code",
   "execution_count": null,
   "id": "b753eeb9726c9c7b",
   "metadata": {
    "collapsed": false,
    "jupyter": {
     "outputs_hidden": false
    }
   },
   "outputs": [],
   "source": [
    "cur.close()"
   ]
  },
  {
   "cell_type": "code",
   "execution_count": null,
   "id": "2ed96c4da622fcfd",
   "metadata": {
    "collapsed": false,
    "jupyter": {
     "outputs_hidden": false
    }
   },
   "outputs": [],
   "source": [
    "import matplotlib.pyplot as plt\n",
    "import numpy as np\n",
    "# Grouped the DataFrame by genre\n",
    "grouped_df = q1_data_df.groupby('genre')\n",
    "\n",
    "# Plotting a line for each genre\n",
    "plt.figure(figsize=(12, 8))\n",
    "for genre, group in grouped_df:\n",
    "    years = np.array(group['years'])  # Convert to numpy array\n",
    "    counts = np.array(group['count'])  # Convert to numpy array\n",
    "    plt.plot(years, counts, label=genre)\n",
    "\n",
    "# Labels and Title\n",
    "plt.xlabel('Years')\n",
    "plt.ylabel('Count of Tracks Released')\n",
    "plt.title('Track Releases Over the Years by Genre')\n",
    "#plt.legend()\n",
    "\n",
    "plt.grid(True)\n",
    "plt.show()\n"
   ]
  },
  {
   "cell_type": "code",
   "execution_count": null,
   "id": "4dd9e58a354e7a64",
   "metadata": {
    "collapsed": false,
    "jupyter": {
     "outputs_hidden": false
    }
   },
   "outputs": [],
   "source": [
    "\n",
    "# Define a function to plot the line chart based on selected genres\n",
    "def plot_line_chart(selected_genres):\n",
    "    selected_data = q1_data_df[q1_data_df['genre'].isin(selected_genres)]\n",
    "    plt.figure(figsize=(12, 8))\n",
    "    for genre, group in selected_data.groupby('genre'):\n",
    "        years = np.array(group['years'])  # Convert years to numpy array\n",
    "        counts = np.array(group['count'])  # Convert counts to numpy array\n",
    "        plt.plot(years, counts, label=genre)\n",
    "    plt.xlabel('Year')\n",
    "    plt.ylabel('Count of Tracks Released')\n",
    "    plt.title('Track Releases Over the Years by Genre')\n",
    "    plt.legend()\n",
    "    plt.grid(True)\n",
    "    plt.show()\n",
    "\n",
    "# Sample list of genres\n",
    "all_genres = q1_data_df['genre'].unique().tolist()\n",
    "\n",
    "# Sample user selection\n",
    "selected_genres = ['Pop', 'Rock', 'Hip-Hop']\n",
    "\n",
    "# Plot the line chart\n",
    "plot_line_chart(selected_genres)\n"
   ]
  },
  {
   "cell_type": "markdown",
   "id": "dbb2c015c04a970a",
   "metadata": {
    "collapsed": false,
    "jupyter": {
     "outputs_hidden": false
    }
   },
   "source": [
    "### Execute Q2: Distribution of track prices within each genre (explicit tracks only)"
   ]
  },
  {
   "cell_type": "code",
   "execution_count": null,
   "id": "8f0dcecc4e419b21",
   "metadata": {
    "collapsed": false,
    "jupyter": {
     "outputs_hidden": false
    }
   },
   "outputs": [],
   "source": [
    "cur = conn.cursor()\n",
    "\n",
    "cur.execute(\"\"\"\n",
    "SELECT \"primaryGenreName\", SUM(\"trackPrice\") AS sum_track_price, COUNT(\"trackId\") AS count_tracks_released, \n",
    "ROUND(SUM(\"trackPrice\")/COUNT(\"trackId\")::decimal, 2) AS price_per_track, \n",
    "RANK() OVER(ORDER BY SUM(\"trackPrice\")/COUNT(\"trackId\") DESC) AS rank_avg_price\n",
    "FROM apple_music_dataset\n",
    "WHERE \"trackExplicitness\" = 'explicit'\n",
    "GROUP BY \"primaryGenreName\"\n",
    "ORDER BY sum_track_price DESC\n",
    "\"\"\")\n",
    "\n",
    "\n",
    "\n",
    "# Get column names from cursor description\n",
    "column_names_2 = [desc[0] for desc in cur.description]\n",
    "\n",
    "# Fetch Q2 data\n",
    "q2_data = cur.fetchall()\n",
    "\n",
    "# Create DataFrame with fetched data and column names\n",
    "q2_data_df = pd.DataFrame(q2_data, columns=column_names_2)\n",
    "display(q2_data_df.head(5))\n"
   ]
  },
  {
   "cell_type": "code",
   "execution_count": null,
   "id": "4b27a42faabe6a36",
   "metadata": {
    "collapsed": false,
    "jupyter": {
     "outputs_hidden": false
    }
   },
   "outputs": [],
   "source": [
    "\n",
    "\n",
    "# Extract data from the DataFrame\n",
    "genres = q2_data_df['primaryGenreName']\n",
    "avg_price = q2_data_df['price_per_track']\n",
    "total_price = q2_data_df['sum_track_price']\n",
    "total_count = q2_data_df['count_tracks_released']\n",
    "\n",
    "# Set the width of the bars\n",
    "bar_width = 0.25\n",
    "\n",
    "# Set the position of the bars on the x-axis\n",
    "r1 = np.arange(len(genres))\n",
    "r2 = [x + bar_width for x in r1]\n",
    "r3 = [x + bar_width for x in r2]\n",
    "\n",
    "# Create the grouped bar plot\n",
    "plt.figure(figsize=(10, 20))\n",
    "plt.bar(r1, avg_price, color='b', width=bar_width, edgecolor='grey', label='Avg Price per Track')\n",
    "plt.bar(r2, total_price, color='g', width=bar_width, edgecolor='grey', label='Total Price')\n",
    "plt.bar(r3, total_count, color='r', width=bar_width, edgecolor='grey', label='Total Track Count')\n",
    "\n",
    "# Add xticks on the middle of the group bars\n",
    "plt.xlabel('Genres', fontweight='bold')\n",
    "plt.xticks([r + bar_width for r in range(len(genres))], genres)\n",
    "\n",
    "# Add a legend\n",
    "plt.legend()\n",
    "\n",
    "# Show the plot\n",
    "plt.title('Distribution of Price and Track Count Across Genres')\n",
    "plt.show()\n"
   ]
  },
  {
   "cell_type": "code",
   "execution_count": null,
   "id": "289ae11135c25a4e",
   "metadata": {
    "collapsed": false,
    "jupyter": {
     "outputs_hidden": false
    }
   },
   "outputs": [],
   "source": [
    "import seaborn as sns\n",
    "import matplotlib.pyplot as plt\n",
    "import numpy as np\n",
    "\n",
    "# Set the style of seaborn\n",
    "sns.set_style(\"whitegrid\")\n",
    "\n",
    "# Extract data as numpy arrays\n",
    "genres = q2_data_df['primaryGenreName'].values\n",
    "sum_track_price = q2_data_df['sum_track_price'].values\n",
    "price_per_track = q2_data_df['price_per_track'].values\n",
    "\n",
    "# Plotting with Matplotlib directly\n",
    "fig, ax1 = plt.subplots(figsize=(12, 8))\n",
    "\n",
    "# Create the bar plot for total price\n",
    "bars = ax1.bar(genres, sum_track_price, color='b', alpha=0.7, label='Total Price')\n",
    "\n",
    "# Set the labels and title for primary y-axis\n",
    "ax1.set_xlabel('Genres', fontweight='bold')\n",
    "ax1.set_ylabel('Total Track Price', color='b', fontweight='bold')\n",
    "ax1.set_title('Distribution of Total Track Price and Average Price Per Track Count Across Genres', fontsize=16)\n",
    "\n",
    "# Create secondary y-axis for average price per track\n",
    "ax2 = ax1.twinx()\n",
    "line = ax2.plot(genres, price_per_track, color='g', marker='o', markersize=5, linewidth=2.5, label='Avg Price per Track')\n",
    "\n",
    "# Set the labels for secondary y-axis\n",
    "ax2.set_ylabel('Avg Price per Track', color='g', fontweight='bold')\n",
    "\n",
    "# Set x-axis tick locations and labels\n",
    "ax1.set_xticks(np.arange(len(genres)))\n",
    "ax1.set_xticklabels(genres, rotation=90, ha='right')\n",
    "\n",
    "# Combine legend for both primary and secondary plots\n",
    "plots = bars + line\n",
    "labels = [plot.get_label() for plot in plots]\n",
    "ax1.legend(plots, labels, loc='upper left')\n",
    "\n",
    "# Show the plot\n",
    "plt.show()\n"
   ]
  },
  {
   "cell_type": "markdown",
   "id": "5e247996b83177c7",
   "metadata": {
    "collapsed": false,
    "jupyter": {
     "outputs_hidden": false
    }
   },
   "source": [
    "### Q3: How does the popularity of tracks, measured by the number of tracks released, vary across different release years within each genre?"
   ]
  },
  {
   "cell_type": "code",
   "execution_count": null,
   "id": "ce1b907f8677ce9a",
   "metadata": {
    "collapsed": false,
    "jupyter": {
     "outputs_hidden": false
    }
   },
   "outputs": [],
   "source": [
    "cur.execute(\"\"\"\n",
    "\n",
    "WITH ranked_genre AS(\n",
    "SELECT \"primaryGenreName\", EXTRACT('year' FROM \"releaseDate\")::integer AS release_year, COUNT(\"trackId\") AS no_tracks_released, RANK() OVER(PARTITION BY EXTRACT('year' FROM \"releaseDate\") ORDER BY COUNT(\"trackId\") DESC)\n",
    "FROM apple_music_dataset\n",
    "GROUP BY \"primaryGenreName\", EXTRACT('year' FROM \"releaseDate\")\n",
    ")\n",
    "\n",
    "SELECT * FROM ranked_genre WHERE rank = 1 ORDER BY release_year DESC;\n",
    "\"\"\")\n",
    "# Get column names from cursor description\n",
    "column_names_3 = [desc[0] for desc in cur.description]\n",
    "\n",
    "# Fetch the data\n",
    "q3_data = cur.fetchall()\n",
    "\n",
    "# Create DataFrame with fetched data and column names\n",
    "q3_data_df = pd.DataFrame(q3_data, columns=column_names_3)\n",
    "\n",
    "cur.close()"
   ]
  },
  {
   "cell_type": "code",
   "execution_count": null,
   "id": "d3beb3ea0ae986d8",
   "metadata": {
    "collapsed": false,
    "jupyter": {
     "outputs_hidden": false
    }
   },
   "outputs": [],
   "source": [
    "display(q3_data_df)"
   ]
  },
  {
   "cell_type": "code",
   "execution_count": null,
   "id": "fbae6ce651b16a9",
   "metadata": {
    "collapsed": false,
    "jupyter": {
     "outputs_hidden": false
    }
   },
   "outputs": [],
   "source": [
    "import seaborn as sns\n",
    "import matplotlib.pyplot as plt\n",
    "\n",
    "# Pivot the DataFrame to have years as columns and genres as rows\n",
    "heatmap_data = q3_data_df.pivot(index='primaryGenreName', columns='release_year', values='no_tracks_released')\n",
    "\n",
    "# Create the heatmap using Seaborn\n",
    "plt.figure(figsize=(12, 8))\n",
    "sns.heatmap(heatmap_data, cmap='YlGnBu', linewidths=0.5, linecolor='grey')\n",
    "plt.title('Popularity of Genres Over the Years')\n",
    "plt.xlabel('Release Year')\n",
    "plt.ylabel('Genre')\n",
    "plt.xticks(rotation=90)\n",
    "plt.yticks(rotation=0)\n",
    "plt.tight_layout()\n",
    "plt.show()\n"
   ]
  },
  {
   "cell_type": "markdown",
   "id": "13b89888b3aeabfe",
   "metadata": {
    "collapsed": false,
    "jupyter": {
     "outputs_hidden": false
    }
   },
   "source": [
    "### Q4: What is the correlation between the track price and the track duration within each genre?"
   ]
  },
  {
   "cell_type": "code",
   "execution_count": null,
   "id": "f3f48fecd4bd6756",
   "metadata": {
    "collapsed": false,
    "jupyter": {
     "outputs_hidden": false
    }
   },
   "outputs": [],
   "source": [
    "cur = conn.cursor()\n",
    "\n",
    "cur.execute(\"\"\"\n",
    "\n",
    "SELECT \"primaryGenreName\", COALESCE(CORR(\"trackPrice\", \"trackTimeMillis\"), 0) AS correlation \n",
    "FROM apple_music_dataset\n",
    "GROUP BY \"primaryGenreName\"\n",
    "ORDER BY correlation DESC;\n",
    "\"\"\")\n",
    "# Get column names from cursor description\n",
    "column_names_4 = [desc[0] for desc in cur.description]\n",
    "\n",
    "# Fetch the data\n",
    "q4_data = cur.fetchall()\n",
    "\n",
    "# Create DataFrame with fetched data and column names\n",
    "q4_data_df = pd.DataFrame(q4_data, columns=column_names_4)\n",
    "\n",
    "cur.close()\n"
   ]
  },
  {
   "cell_type": "code",
   "execution_count": null,
   "id": "ae3d07fbc9f622f9",
   "metadata": {
    "collapsed": false,
    "jupyter": {
     "outputs_hidden": false
    }
   },
   "outputs": [],
   "source": [
    "import seaborn as sns\n",
    "import matplotlib.pyplot as plt\n",
    "\n",
    "# Plotting the correlation values using Seaborn\n",
    "plt.figure(figsize=(10, 6))\n",
    "sns.barplot(data=q4_data_df, x='primaryGenreName', y='correlation', hue='primaryGenreName', palette='viridis', legend=False)\n",
    "plt.title('Correlation between Track Price and Track Time (Seconds) by Genre')\n",
    "plt.xlabel('Genre')\n",
    "plt.ylabel('Correlation')\n",
    "plt.xticks(rotation=90, ha='right')  # Rotate x-labels for better readability\n",
    "plt.tight_layout()\n",
    "plt.show()\n"
   ]
  },
  {
   "cell_type": "markdown",
   "id": "979f44994bba27f6",
   "metadata": {
    "collapsed": false,
    "jupyter": {
     "outputs_hidden": false
    }
   },
   "source": [
    "### Q5: Can we identify any temporal patterns in the release dates of tracks within collections?"
   ]
  },
  {
   "cell_type": "code",
   "execution_count": null,
   "id": "8d95c8dab2f0023",
   "metadata": {
    "collapsed": false,
    "jupyter": {
     "outputs_hidden": false
    }
   },
   "outputs": [],
   "source": [
    "cur = conn.cursor()\n",
    "\n",
    "cur.execute(\"\"\"\n",
    "\n",
    "WITH collection_table AS(\n",
    "SELECT \"collectionId\",\"collectionName\", MAX(\"releaseDate\")::date AS last_release, MIN(\"releaseDate\")::date AS first_release, MAX(\"releaseDate\") - MIN(\"releaseDate\") AS collection_release_duration\n",
    "FROM apple_music_dataset\n",
    "GROUP BY \"collectionName\", \"collectionId\"\n",
    "ORDER BY collection_release_duration DESC),\n",
    "\n",
    "collection_table2 AS\n",
    "( \n",
    "SELECT DISTINCT \"collectionId\", \"collectionName\", \"primaryGenreName\"\n",
    "FROM apple_music_dataset\n",
    ")\n",
    "SELECT \"primaryGenreName\", collection_table.\"collectionName\", first_release, last_release, collection_release_duration\n",
    "FROM collection_table JOIN collection_table2\n",
    "ON collection_table.\"collectionId\" = collection_table2.\"collectionId\"\n",
    "ORDER BY \"collectionName\" DESC;\n",
    "\"\"\")\n",
    "# Get column names from cursor description\n",
    "column_names_5 = [desc[0] for desc in cur.description]\n",
    "\n",
    "# Fetch the data\n",
    "q5_data = cur.fetchall()\n",
    "\n",
    "# Create DataFrame with fetched data and column names\n",
    "q5_data_df = pd.DataFrame(q5_data, columns=column_names_5)\n",
    "\n",
    "cur.close()\n"
   ]
  },
  {
   "cell_type": "code",
   "execution_count": null,
   "id": "ac728f7715718db9",
   "metadata": {
    "collapsed": false,
    "jupyter": {
     "outputs_hidden": false
    }
   },
   "outputs": [],
   "source": [
    "display(q5_data_df)"
   ]
  },
  {
   "cell_type": "code",
   "execution_count": null,
   "id": "ad7c27afa3f5582c",
   "metadata": {
    "collapsed": false,
    "jupyter": {
     "outputs_hidden": false
    }
   },
   "outputs": [],
   "source": [
    "import seaborn as sns\n",
    "import matplotlib.pyplot as plt\n",
    "\n",
    "# Plotting the release duration of collections across genres using Seaborn\n",
    "plt.figure(figsize=(12, 6))\n",
    "sns.barplot(data=q5_data_df, x='primaryGenreName', y='collection_release_duration', hue='primaryGenreName', palette='Set2', legend=False)\n",
    "plt.title('Release Duration of Collections Across Genres')\n",
    "plt.xlabel('Genre')\n",
    "plt.ylabel('Release Duration (Days)')\n",
    "plt.xticks(rotation=90, ha='right')  # Rotate x-labels for better readability\n",
    "plt.tight_layout()\n",
    "plt.show()\n"
   ]
  },
  {
   "cell_type": "code",
   "execution_count": null,
   "id": "2921bfb1bb1c5319",
   "metadata": {
    "collapsed": false,
    "jupyter": {
     "outputs_hidden": false
    }
   },
   "outputs": [],
   "source": [
    "import seaborn as sns\n",
    "import matplotlib.pyplot as plt\n",
    "\n",
    "# Sort by collectionName alphabetically\n",
    "\n",
    "genre_ordered = q5_data_df['primaryGenreName'].unique()\n",
    "\n",
    "# Plotting the release duration of collections across genres using Seaborn\n",
    "plt.figure(figsize=(12, 6))\n",
    "sns.barplot(data=q5_data_df, x='primaryGenreName', y='collection_release_duration', legend=False, order=genre_ordered)\n",
    "plt.title('Release Duration of Collections Across Genres')\n",
    "plt.xlabel('Genre')\n",
    "plt.ylabel('Release Duration (Days)')\n",
    "plt.xticks(rotation=90, ha='right')  # Rotate x-labels for better readability\n",
    "plt.show()\n"
   ]
  },
  {
   "cell_type": "markdown",
   "id": "b1fd3ea19b028243",
   "metadata": {
    "collapsed": false,
    "jupyter": {
     "outputs_hidden": false
    }
   },
   "source": [
    "### Q6: How does the distribution of track prices vary between single tracks and tracks within collections?"
   ]
  },
  {
   "cell_type": "code",
   "execution_count": null,
   "id": "e8369ffdc867bbb5",
   "metadata": {
    "collapsed": false,
    "jupyter": {
     "outputs_hidden": false
    }
   },
   "outputs": [],
   "source": [
    "cur = conn.cursor()\n",
    "\n",
    "cur.execute(\"\"\"\n",
    "\n",
    "WITH category_tracks AS \n",
    "(\n",
    "SELECT \"collectionId\", COUNT(\"trackId\"), CASE WHEN COUNT(\"trackId\") = 1 THEN 'single' ELSE 'collection' END AS category_of_track \n",
    "FROM apple_music_dataset \n",
    "GROUP BY \"collectionId\"\n",
    ")\n",
    "\n",
    "SELECT category_of_track, SUM(\"trackPrice\") AS sum_price, ROUND(AVG(\"trackPrice\"),3) AS avg_track_price, COUNT(\"trackId\")/COUNT(DISTINCT category_tracks.\"collectionId\") AS avg_nos_of_tracks_collection, COUNT(DISTINCT category_tracks.\"collectionId\") AS \"No. of Collections\"\n",
    "FROM apple_music_dataset JOIN category_tracks\n",
    "ON apple_music_dataset.\"collectionId\" = category_tracks.\"collectionId\"\n",
    "GROUP BY category_of_track;\n",
    "\n",
    "\"\"\")\n",
    "# Get column names from cursor description\n",
    "column_names_6 = [desc[0] for desc in cur.description]\n",
    "\n",
    "# Fetch the data\n",
    "q6_data = cur.fetchall()\n",
    "\n",
    "# Create DataFrame with fetched data and column names\n",
    "q6_data_df = pd.DataFrame(q6_data, columns=column_names_6)\n",
    "\n",
    "cur.close()\n"
   ]
  },
  {
   "cell_type": "code",
   "execution_count": null,
   "id": "2873bba9b3712354",
   "metadata": {
    "collapsed": false,
    "jupyter": {
     "outputs_hidden": false
    }
   },
   "outputs": [],
   "source": [
    "import matplotlib.pyplot as plt\n",
    "\n",
    "# Update column names\n",
    "q6_data_df.columns = [\"\", \"Sum of the Track Price\", \"Avg. Price per Track\", \"Avg. no. of tracks per collection\", \"No. of Collections\"]\n",
    "\n",
    "# Transpose the DataFrame\n",
    "q6_data_df_transposed = q6_data_df.T\n",
    "\n",
    "# Create a figure and axis\n",
    "fig, ax = plt.subplots(figsize=(10, 6))\n",
    "\n",
    "# Hide axes\n",
    "ax.axis('off')\n",
    "\n",
    "# Create the table plot\n",
    "table = ax.table(cellText=q6_data_df_transposed.values,\n",
    "                 rowLabels=q6_data_df_transposed.index,\n",
    "                 loc='center')\n",
    "\n",
    "# Set table properties\n",
    "table.auto_set_font_size(False)\n",
    "table.set_fontsize(12)\n",
    "table.scale(1.2, 1.2)\n",
    "\n",
    "# Show the plot\n",
    "plt.title('Summary of Track Data by Category')\n",
    "plt.show()\n"
   ]
  },
  {
   "cell_type": "markdown",
   "id": "60e189d1cfb8e377",
   "metadata": {
    "collapsed": false,
    "jupyter": {
     "outputs_hidden": false
    }
   },
   "source": [
    "#### Ans6: Avg track price is  not much different within these two categories"
   ]
  },
  {
   "cell_type": "markdown",
   "id": "55602cfa25776dc",
   "metadata": {
    "collapsed": false,
    "jupyter": {
     "outputs_hidden": false
    }
   },
   "source": [
    "### Q7. What is the relationship between the number of tracks in a collection and the average track price within each genre?"
   ]
  },
  {
   "cell_type": "code",
   "execution_count": null,
   "id": "143ad11e0c0fef91",
   "metadata": {
    "collapsed": false,
    "jupyter": {
     "outputs_hidden": false
    }
   },
   "outputs": [],
   "source": [
    "cur = conn.cursor()\n",
    "\n",
    "cur.execute(\"\"\"\n",
    "\n",
    "SELECT \"primaryGenreName\", \"collectionName\", AVG(\"trackPrice\") OVER(PARTITION BY \"collectionId\") AS avg_price, COUNT(\"trackId\") OVER(PARTITION BY \"collectionId\") \n",
    "FROM apple_music_dataset\n",
    "WHERE \"trackPrice\" > 0;\n",
    "\n",
    "\"\"\")\n",
    "# Get column names from cursor description\n",
    "column_names_7 = [desc[0] for desc in cur.description]\n",
    "\n",
    "# Fetch the data\n",
    "q7_data = cur.fetchall()\n",
    "\n",
    "# Create DataFrame with fetched data and column names\n",
    "q7_data_df = pd.DataFrame(q7_data, columns=column_names_7)\n",
    "\n",
    "cur.close()\n"
   ]
  },
  {
   "cell_type": "code",
   "execution_count": null,
   "id": "b063be6c85e39a8e",
   "metadata": {
    "collapsed": false,
    "jupyter": {
     "outputs_hidden": false
    }
   },
   "outputs": [],
   "source": [
    "import seaborn as sns\n",
    "import matplotlib.pyplot as plt\n",
    "\n",
    "# Define a custom color palette for better differentiation between genres\n",
    "custom_palette = sns.color_palette(\"hsv\", len(q7_data_df['primaryGenreName'].unique()))\n",
    "\n",
    "# Plot using seaborn\n",
    "plt.figure(figsize=(10, 6))\n",
    "sns.scatterplot(data=q7_data_df, x='count', y='avg_price', hue='primaryGenreName', palette=custom_palette, legend=False)\n",
    "plt.title('Relationship between Number of Tracks and Average Track Price by Genre')\n",
    "plt.xlabel('Number of Tracks in a Collection')\n",
    "plt.ylabel('Average Track Price')\n",
    "#plt.legend(loc='upper left', bbox_to_anchor=(1, 1))\n",
    "plt.show()\n"
   ]
  },
  {
   "cell_type": "markdown",
   "id": "b9fbafcf32b88410",
   "metadata": {
    "collapsed": false,
    "jupyter": {
     "outputs_hidden": false
    }
   },
   "source": [
    "### Q8. Can we identify any outliers in terms of track duration among tracks released by the top 5 artists?"
   ]
  },
  {
   "cell_type": "code",
   "execution_count": null,
   "id": "d5ff6aac8df6fc4",
   "metadata": {
    "collapsed": false,
    "jupyter": {
     "outputs_hidden": false
    }
   },
   "outputs": [],
   "source": [
    "cur = conn.cursor()\n",
    "\n",
    "cur.execute(\"\"\"\n",
    "WITH top_artists AS (\n",
    "SELECT \"artistId\", \"artistName\", RANK() OVER(ORDER BY COUNT(\"trackId\") DESC) AS rank\n",
    "FROM apple_music_dataset \n",
    "GROUP BY \"artistId\", \"artistName\"\n",
    "),\n",
    "\n",
    "outliers_table AS\n",
    "(\n",
    "SELECT \"artistId\",\"artistName\", COUNT(\"trackId\"),\n",
    "percentile_cont(0.95) WITHIN GROUP (ORDER BY \"trackTimeMillis\") AS percentile_95, \n",
    "percentile_cont(0.05) WITHIN GROUP (ORDER BY \"trackTimeMillis\") AS percentile_5 \n",
    "FROM apple_music_dataset GROUP BY \"artistId\", \"artistName\"\n",
    ")\n",
    "\n",
    "SELECT t.\"artistName\", ad.\"trackName\", ad.\"trackTimeMillis\", o.percentile_95, o.percentile_5\n",
    "FROM apple_music_dataset ad RIGHT JOIN outliers_table o\n",
    "ON o.\"artistId\" = ad.\"artistId\"\n",
    "JOIN top_artists t ON t.\"artistId\" = o.\"artistId\"\n",
    "WHERE t.rank <= 5 AND (ad.\"trackTimeMillis\" > o.percentile_95 OR ad.\"trackTimeMillis\" < o.percentile_5);\n",
    "\"\"\")\n",
    "# Get column names from cursor description\n",
    "column_names_9 = [desc[0] for desc in cur.description]\n",
    "\n",
    "# Fetch the data\n",
    "q9_data = cur.fetchall()\n",
    "\n",
    "# Create DataFrame with fetched data and column names\n",
    "q9_data_df = pd.DataFrame(q9_data, columns=column_names_9)\n",
    "\n",
    "cur.close()\n"
   ]
  },
  {
   "cell_type": "code",
   "execution_count": null,
   "id": "b07bcc522a0e8fcb",
   "metadata": {
    "collapsed": false,
    "jupyter": {
     "outputs_hidden": false
    }
   },
   "outputs": [],
   "source": [
    "import seaborn as sns\n",
    "import matplotlib.pyplot as plt\n",
    "\n",
    "# Assuming q9_data_df is your DataFrame\n",
    "sns.boxplot(data=q9_data_df, x='artistName', y='trackTimeMillis')\n",
    "plt.xticks(rotation=45)  # This helps with artist name readability\n",
    "plt.title('Distribution of Track Durations for Top 5 Artists')\n",
    "plt.show()\n"
   ]
  },
  {
   "cell_type": "markdown",
   "id": "9d6c577541053a29",
   "metadata": {
    "collapsed": false,
    "jupyter": {
     "outputs_hidden": false
    }
   },
   "source": [
    "### Q9. How does the release pattern of tracks vary between artists with similar popularity levels but different genres?"
   ]
  },
  {
   "cell_type": "code",
   "execution_count": null,
   "id": "8186372cc03ff8bc",
   "metadata": {
    "collapsed": false,
    "jupyter": {
     "outputs_hidden": false
    }
   },
   "outputs": [],
   "source": [
    "cur = conn.cursor()\n",
    "\n",
    "cur.execute(\"\"\"\n",
    "\n",
    "WITH rank_artists AS (\n",
    "SELECT \"artistId\", \"artistName\", \"primaryGenreName\", RANK() OVER(ORDER BY COUNT(\"trackId\") DESC) AS rank, COUNT(\"trackId\") AS track_count\n",
    "FROM apple_music_dataset \n",
    "GROUP BY \"artistId\", \"artistName\", \"primaryGenreName\"\n",
    "),\n",
    "similar_popularity_artists AS (\n",
    "SELECT \"artistId\", \"artistName\", \"primaryGenreName\", rank, track_count, NTILE(10) OVER(ORDER BY rank) AS popularity_bin --divide artists with same popularity together \n",
    "FROM rank_artists\n",
    ")\n",
    "\n",
    "SELECT s.popularity_bin, s.\"primaryGenreName\", TO_CHAR(\"releaseDate\", 'Month') AS release_month, COUNT(a.\"trackId\") AS released_track_count\n",
    "FROM similar_popularity_artists s JOIN apple_music_dataset a \n",
    "ON s.\"artistId\" = a.\"artistId\"\n",
    "GROUP BY s.popularity_bin, s.\"primaryGenreName\", TO_CHAR(\"releaseDate\", 'Month');\n",
    "\n",
    "\"\"\")\n",
    "# Get column names from cursor description\n",
    "column_names_10 = [desc[0] for desc in cur.description]\n",
    "\n",
    "# Fetch the data\n",
    "q10_data = cur.fetchall()\n",
    "\n",
    "# Create DataFrame with fetched data and column names\n",
    "q10_data_df = pd.DataFrame(q10_data, columns=column_names_10)\n",
    "\n",
    "cur.close()\n"
   ]
  },
  {
   "cell_type": "code",
   "execution_count": null,
   "id": "21451fe1c91b5814",
   "metadata": {
    "collapsed": false,
    "jupyter": {
     "outputs_hidden": false
    }
   },
   "outputs": [],
   "source": [
    "import numpy as np\n",
    "import matplotlib.pyplot as plt\n",
    "\n",
    "# Pivot the DataFrame\n",
    "pivot_df = q10_data_df.pivot_table(index='popularity_bin', columns='release_month', values='released_track_count', aggfunc=np.sum)\n",
    "\n",
    "# Convert pivot table to numpy array\n",
    "heatmap_data = pivot_df.to_numpy()\n",
    "\n",
    "# Plot heatmap\n",
    "plt.figure(figsize=(12, 8))\n",
    "plt.imshow(heatmap_data, cmap='viridis', aspect='auto')\n",
    "plt.colorbar(label='Count of Released Tracks')\n",
    "plt.title('Release Pattern of Tracks for Artists with Similar Popularity Levels')\n",
    "plt.xlabel('Release Month')\n",
    "plt.ylabel('Popularity Bin')\n",
    "plt.xticks(range(len(pivot_df.columns)), pivot_df.columns.strftime('%Y-%m'), rotation=45)\n",
    "plt.yticks(range(len(pivot_df.index)), pivot_df.index)\n",
    "plt.tight_layout()\n",
    "plt.show()\n"
   ]
  },
  {
   "cell_type": "code",
   "execution_count": null,
   "id": "6a1906dba1cd8190",
   "metadata": {
    "collapsed": false,
    "jupyter": {
     "outputs_hidden": false
    }
   },
   "outputs": [],
   "source": [
    "import matplotlib.pyplot as plt\n",
    "import pandas as pd\n",
    "import seaborn as sns\n",
    "\n",
    "# Assuming q10_data_df is your DataFrame with the columns: popularity_bin, primaryGenreName, release_month, and released_track_count\n",
    "# Preparing the data\n",
    "pivot_df = q10_data_df.pivot_table(index='release_month', columns='primaryGenreName', values='released_track_count', aggfunc='sum', fill_value=0)\n",
    "\n",
    "# Plotting\n",
    "pivot_df.plot(kind='bar', stacked=True, figsize=(14, 8))\n",
    "plt.title('Monthly Track Releases by Genre')\n",
    "plt.xlabel('Month')\n",
    "plt.ylabel('Number of Tracks Released')\n",
    "plt.xticks(rotation=0)\n",
    "plt.legend(title='Genre')\n",
    "plt.tight_layout()\n",
    "plt.show()\n"
   ]
  },
  {
   "cell_type": "code",
   "execution_count": null,
   "id": "af3d471c514f716e",
   "metadata": {
    "collapsed": false,
    "jupyter": {
     "outputs_hidden": false
    }
   },
   "outputs": [],
   "source": [
    "import numpy as np\n",
    "import matplotlib.pyplot as plt\n",
    "\n",
    "# Example arrays\n",
    "months = np.array(['January', 'February', 'March','April','May','June','July','August','September','October','November','December'])\n",
    "popularity_bins = np.array(['Bin 1', 'Bin 2', 'Bin 3'])\n",
    "# Example data: rows are months, columns are popularity bins\n",
    "data = np.random.randint(10, 50, size=(len(months), len(popularity_bins)))\n",
    "\n",
    "# Plotting\n",
    "fig, ax = plt.subplots(figsize=(10, 6))\n",
    "width = 0.35  # Bar width\n",
    "ind = np.arange(len(months))  # The x locations for the groups\n",
    "\n",
    "# Stack bars by plotting them on top of each other\n",
    "bottoms = np.zeros(len(months))\n",
    "for i in range(len(popularity_bins)):\n",
    "    ax.bar(ind, data[:, i], width, bottom=bottoms, label=popularity_bins[i])\n",
    "    bottoms += data[:, i]\n",
    "\n",
    "ax.set_xlabel('Month')\n",
    "ax.set_ylabel('Tracks Released')\n",
    "ax.set_title('Monthly Track Releases by Popularity Bin')\n",
    "ax.set_xticks(ind)\n",
    "ax.set_xticklabels(months)\n",
    "ax.legend(title='Popularity Bin')\n",
    "\n",
    "plt.show()\n"
   ]
  },
  {
   "cell_type": "code",
   "execution_count": null,
   "id": "66a0bada84caad7",
   "metadata": {
    "collapsed": false,
    "jupyter": {
     "outputs_hidden": false
    }
   },
   "outputs": [],
   "source": [
    "import numpy as np\n",
    "import matplotlib.pyplot as plt\n",
    "\n",
    "# Define the custom order of months\n",
    "months_order = [\"January\", \"February\", \"March\", \"April\", \"May\", \"June\", \"July\", \"August\", \"September\", \"October\", \"November\", \"December\"]\n",
    "\n",
    "# Pivot the DataFrame\n",
    "pivot_df = q10_data_df.pivot_table(index='popularity_bin', columns='release_month', values='released_track_count', aggfunc=np.sum)\n",
    "\n",
    "# Convert pivot table to numpy array\n",
    "heatmap_data = pivot_df.to_numpy()\n",
    "\n",
    "# Plot heatmap\n",
    "plt.figure(figsize=(12, 8))\n",
    "plt.imshow(heatmap_data, cmap='viridis', aspect='auto')\n",
    "plt.colorbar(label='Count of Released Tracks')\n",
    "plt.title('Release Pattern of Tracks for Artists with Similar Popularity Levels')\n",
    "plt.xlabel('Release Month')\n",
    "plt.ylabel('Popularity Bin')\n",
    "plt.xticks(range(len(pivot_df.columns)), months_order, rotation=45)  # Use custom order of months\n",
    "plt.yticks(range(len(pivot_df.index)), pivot_df.index)\n",
    "plt.tight_layout()\n",
    "plt.show()\n"
   ]
  },
  {
   "cell_type": "code",
   "execution_count": null,
   "id": "1a9c7c1bc134e8d5",
   "metadata": {
    "collapsed": false,
    "jupyter": {
     "outputs_hidden": false
    }
   },
   "outputs": [],
   "source": []
  }
 ],
 "metadata": {
  "kernelspec": {
   "display_name": "Python 3 (ipykernel)",
   "language": "python",
   "name": "python3"
  },
  "language_info": {
   "codemirror_mode": {
    "name": "ipython",
    "version": 3
   },
   "file_extension": ".py",
   "mimetype": "text/x-python",
   "name": "python",
   "nbconvert_exporter": "python",
   "pygments_lexer": "ipython3",
   "version": "3.12.0"
  }
 },
 "nbformat": 4,
 "nbformat_minor": 5
}
